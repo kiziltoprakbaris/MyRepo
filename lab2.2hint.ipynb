{
  "nbformat": 4,
  "nbformat_minor": 0,
  "metadata": {
    "colab": {
      "name": "Untitled1.ipynb",
      "provenance": [],
      "authorship_tag": "ABX9TyP3cuI/yzF+/PXsIKaHkAWx",
      "include_colab_link": true
    },
    "kernelspec": {
      "name": "python3",
      "display_name": "Python 3"
    }
  },
  "cells": [
    {
      "cell_type": "markdown",
      "metadata": {
        "id": "view-in-github",
        "colab_type": "text"
      },
      "source": [
        "<a href=\"https://colab.research.google.com/github/kiziltoprakbaris/MyRepo/blob/master/lab2.2.ipynb\" target=\"_parent\"><img src=\"https://colab.research.google.com/assets/colab-badge.svg\" alt=\"Open In Colab\"/></a>"
      ]
    },
    {
      "cell_type": "code",
      "metadata": {
        "id": "7kFB1krH9M0W",
        "colab_type": "code",
        "colab": {
          "base_uri": "https://localhost:8080/",
          "height": 187
        },
        "outputId": "f0e1bb16-0686-49db-9b5c-22e81779a22a"
      },
      "source": [
        "import numpy as np\n",
        "\n",
        "x=0\n",
        "n=0\n",
        "while x<10:\n",
        "  x=(1+np.float16(n))\n",
        "  print(\"n = \",n,\", x = \",x)\n",
        "  n+=1"
      ],
      "execution_count": 3,
      "outputs": [
        {
          "output_type": "stream",
          "text": [
            "n =  0 , x =  1.0\n",
            "n =  1 , x =  2.0\n",
            "n =  2 , x =  3.0\n",
            "n =  3 , x =  4.0\n",
            "n =  4 , x =  5.0\n",
            "n =  5 , x =  6.0\n",
            "n =  6 , x =  7.0\n",
            "n =  7 , x =  8.0\n",
            "n =  8 , x =  9.0\n",
            "n =  9 , x =  10.0\n"
          ],
          "name": "stdout"
        }
      ]
    }
  ]
}
