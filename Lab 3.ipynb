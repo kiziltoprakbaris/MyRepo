{
  "nbformat": 4,
  "nbformat_minor": 0,
  "metadata": {
    "colab": {
      "name": "Lab 3.ipynb",
      "provenance": [],
      "authorship_tag": "ABX9TyPGQGt8C1XTKQRlB485jpSB",
      "include_colab_link": true
    },
    "kernelspec": {
      "name": "python3",
      "display_name": "Python 3"
    }
  },
  "cells": [
    {
      "cell_type": "markdown",
      "metadata": {
        "id": "view-in-github",
        "colab_type": "text"
      },
      "source": [
        "<a href=\"https://colab.research.google.com/github/kiziltoprakbaris/MyRepo/blob/master/Lab%203.ipynb\" target=\"_parent\"><img src=\"https://colab.research.google.com/assets/colab-badge.svg\" alt=\"Open In Colab\"/></a>"
      ]
    },
    {
      "cell_type": "code",
      "metadata": {
        "id": "McLDqPWhrsIj",
        "colab_type": "code",
        "colab": {
          "base_uri": "https://localhost:8080/",
          "height": 374
        },
        "outputId": "2ccc28b2-289f-4fec-d912-2bea2c2b8365"
      },
      "source": [
        "import random\n",
        "\n",
        "#Defining S randomly\n",
        "S = random.randint(0,100)   #Approximate sqrt(S)\n",
        "\n",
        "# Defining Function\n",
        "def f(x):\n",
        "   return x**2 - S\n",
        "\n",
        "# Defining derivative of function\n",
        "def g(x):\n",
        "   return 2*x\n",
        "\n",
        "# Implementing Newton Method\n",
        "def newton(x0,e,N):\n",
        "   print('\\n\\n*** NEWTON METHOD IMPLEMENTATION ***')\n",
        "   step = 1\n",
        "   flag = 1\n",
        "   condition = True\n",
        "   while condition:\n",
        "      if g(x0) == 0.0:\n",
        "         print('Divide by zero error!')\n",
        "         break\n",
        "      x1 = x0 - f(x0)/g(x0)\n",
        "      print('Iteration-%d, x1 = %0.6f and f(x1) = %0.6f' % (step, x1, f(x1)))\n",
        "      x0 = x1\n",
        "      step = step + 1\n",
        "      if step > N:\n",
        "         flag = 0\n",
        "         break\n",
        "      condition = abs(f(x1)) > e\n",
        "      if flag==1:\n",
        "         print('\\nRequired root is: %0.8f' % x1)\n",
        "      else:\n",
        "         print('\\nNot Convergent.')\n",
        "         \n",
        "# Input Section\n",
        "x0 = input('Enter Guess: ')\n",
        "e = input('Tolerable Error: ')\n",
        "N = input('Maximum Step: ')\n",
        "# Converting x0 and e to float\n",
        "x0 = float(x0)\n",
        "e = float(e)\n",
        "# Converting N to integer\n",
        "N = int(N)\n",
        "#Note: You can combine above three section like this\n",
        "# x0 = float(input('Enter Guess: '))\n",
        "# e = float(input('Tolerable Error: '))\n",
        "# N = int(input('Maximum Step: '))\n",
        "# Starting Newton Method\n",
        "newton(x0,e,N)"
      ],
      "execution_count": 25,
      "outputs": [
        {
          "output_type": "stream",
          "text": [
            "Enter Guess: 1\n",
            "Tolerable Error: 0.0001\n",
            "Maximum Step: 1000\n",
            "\n",
            "\n",
            "*** NEWTON METHOD IMPLEMENTATION ***\n",
            "Iteration-1, x1 = 8.500000 and f(x1) = 56.250000\n",
            "\n",
            "Required root is: 8.50000000\n",
            "Iteration-2, x1 = 5.191176 and f(x1) = 10.948313\n",
            "\n",
            "Required root is: 5.19117647\n",
            "Iteration-3, x1 = 4.136665 and f(x1) = 1.111995\n",
            "\n",
            "Required root is: 4.13666472\n",
            "Iteration-4, x1 = 4.002258 and f(x1) = 0.018065\n",
            "\n",
            "Required root is: 4.00225752\n",
            "Iteration-5, x1 = 4.000001 and f(x1) = 0.000005\n",
            "\n",
            "Required root is: 4.00000064\n"
          ],
          "name": "stdout"
        }
      ]
    }
  ]
}