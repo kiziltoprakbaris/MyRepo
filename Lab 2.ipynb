{
  "nbformat": 4,
  "nbformat_minor": 0,
  "metadata": {
    "colab": {
      "name": "Lab2 (1-2-3 missed).ipynb",
      "provenance": [],
      "authorship_tag": "ABX9TyPzQ9JN6qD/SM3n7EUU7P4U",
      "include_colab_link": true
    },
    "kernelspec": {
      "name": "python3",
      "display_name": "Python 3"
    }
  },
  "cells": [
    {
      "cell_type": "markdown",
      "metadata": {
        "id": "view-in-github",
        "colab_type": "text"
      },
      "source": [
        "<a href=\"https://colab.research.google.com/github/kiziltoprakbaris/MyRepo/blob/master/Lab%202.ipynb\" target=\"_parent\"><img src=\"https://colab.research.google.com/assets/colab-badge.svg\" alt=\"Open In Colab\"/></a>"
      ]
    },
    {
      "cell_type": "markdown",
      "metadata": {
        "id": "7bPK7-SUDgo6",
        "colab_type": "text"
      },
      "source": [
        "Lab 2.1"
      ]
    },
    {
      "cell_type": "markdown",
      "metadata": {
        "id": "CiWxsBNISkYC",
        "colab_type": "text"
      },
      "source": [
        "\n",
        "\n"
      ]
    },
    {
      "cell_type": "code",
      "metadata": {
        "id": "Sf5iE8mPWPUj",
        "colab_type": "code",
        "colab": {}
      },
      "source": [
        "*  rd(x)=(-1)**(k)*(0.d1d2)*2**(e1e2-1)\n",
        "\n",
        "the range of e is [0;(2**2)-1] = [0;3], \n",
        "the range of di is [0;1]\n",
        "\n",
        "\n",
        "*  The possibilities are following;\n",
        "\n",
        "e=0                 (+)\n",
        "-(0.00)2**-1    (0.00)2**-1\n",
        "-(0.01)2**-1    (0.01)2**-1\n",
        "-(0.10)2**-1    (0.10)2**-1\n",
        "-(0.11)2**-1    (0.11)2**-1\n",
        "\n",
        "e=1\n",
        "-(0.00)2**0     (0.00)2**0\n",
        "-(0.01)2**0     (0.01)2**0\n",
        "-(0.10)2**0     (0.10)2**0\n",
        "-(0.11)2**0     (0.11)2**0\n",
        "\n",
        "e=2\n",
        "-(0.00)2**1     (0.00)2**1\n",
        "-(0.01)2**1     (0.01)2**1\n",
        "-(0.10)2**1     (0.10)2**1\n",
        "-(0.11)2**1     (0.11)2**1\n",
        "\n",
        "e=3\n",
        "-(0.00)2**2     (0.00)2**2\n",
        "-(0.01)2**2     (0.01)2**2\n",
        "-(0.10)2**2     (0.10)2**2\n",
        "-(0.11)2**2     (0.11)2**2\n",
        "\n",
        "\n",
        "\n",
        "*  The smallest number is -(0.1)2**-1 = -0.05\n",
        "\n",
        "*  The largest number is (0.11)2**2   =  0.44"
      ],
      "execution_count": 0,
      "outputs": []
    },
    {
      "cell_type": "markdown",
      "metadata": {
        "id": "mbCrJ22ZDg--",
        "colab_type": "text"
      },
      "source": [
        "\n",
        "\n",
        "---\n",
        "\n",
        "\n",
        "Lab 2.2.hint"
      ]
    },
    {
      "cell_type": "code",
      "metadata": {
        "id": "L7KV92RcD1QQ",
        "colab_type": "code",
        "colab": {
          "base_uri": "https://localhost:8080/",
          "height": 187
        },
        "outputId": "fdde160b-980c-4e45-dcdf-54facccf6306"
      },
      "source": [
        "import numpy as np\n",
        "\n",
        "x=0\n",
        "n=0\n",
        "while x<10:\n",
        "  x=(1+np.float16(n))\n",
        "  print(\"n = \",n,\", x = \",x)\n",
        "  n+=1"
      ],
      "execution_count": 59,
      "outputs": [
        {
          "output_type": "stream",
          "text": [
            "n =  0 , x =  1.0\n",
            "n =  1 , x =  2.0\n",
            "n =  2 , x =  3.0\n",
            "n =  3 , x =  4.0\n",
            "n =  4 , x =  5.0\n",
            "n =  5 , x =  6.0\n",
            "n =  6 , x =  7.0\n",
            "n =  7 , x =  8.0\n",
            "n =  8 , x =  9.0\n",
            "n =  9 , x =  10.0\n"
          ],
          "name": "stdout"
        }
      ]
    },
    {
      "cell_type": "markdown",
      "metadata": {
        "id": "eVqDzsgnDgxs",
        "colab_type": "text"
      },
      "source": [
        "Lab 2.2\n"
      ]
    },
    {
      "cell_type": "markdown",
      "metadata": {
        "id": "Hh4A40MdYEdL",
        "colab_type": "text"
      },
      "source": [
        "*numpy.ﬂoat16*"
      ]
    },
    {
      "cell_type": "code",
      "metadata": {
        "id": "M3E5aQl0YNki",
        "colab_type": "code",
        "colab": {
          "base_uri": "https://localhost:8080/",
          "height": 221
        },
        "outputId": "a0eb79b7-bdee-4373-f15b-ac321fceeb62"
      },
      "source": [
        "import numpy as np\n",
        "\n",
        "diff=999\n",
        "n=0\n",
        "\n",
        "a=np.float16(1.)\n",
        "while diff>1:\n",
        "  diff=(a+a/np.float16(2.**n))\n",
        "  print(\"n =\",n,\" -> \",diff)\n",
        "  n+=1"
      ],
      "execution_count": 60,
      "outputs": [
        {
          "output_type": "stream",
          "text": [
            "n = 0  ->  2.0\n",
            "n = 1  ->  1.5\n",
            "n = 2  ->  1.25\n",
            "n = 3  ->  1.125\n",
            "n = 4  ->  1.0625\n",
            "n = 5  ->  1.031\n",
            "n = 6  ->  1.016\n",
            "n = 7  ->  1.008\n",
            "n = 8  ->  1.004\n",
            "n = 9  ->  1.002\n",
            "n = 10  ->  1.001\n",
            "n = 11  ->  1.0\n"
          ],
          "name": "stdout"
        }
      ]
    },
    {
      "cell_type": "markdown",
      "metadata": {
        "id": "6pbGljLqYTKM",
        "colab_type": "text"
      },
      "source": [
        "*numpy.ﬂoat32*"
      ]
    },
    {
      "cell_type": "code",
      "metadata": {
        "id": "oX6-SNkOYWj-",
        "colab_type": "code",
        "colab": {
          "base_uri": "https://localhost:8080/",
          "height": 442
        },
        "outputId": "4b5564ad-0a6e-49b7-953f-d23eeba6ddfc"
      },
      "source": [
        "import numpy as np\n",
        "\n",
        "diff=999\n",
        "n=0\n",
        "\n",
        "a=np.float32(1.)\n",
        "while diff>1:\n",
        "  diff=(a+a/np.float32(2.**n))\n",
        "  print(\"n =\",n,\" -> \",diff)\n",
        "  n+=1"
      ],
      "execution_count": 61,
      "outputs": [
        {
          "output_type": "stream",
          "text": [
            "n = 0  ->  2.0\n",
            "n = 1  ->  1.5\n",
            "n = 2  ->  1.25\n",
            "n = 3  ->  1.125\n",
            "n = 4  ->  1.0625\n",
            "n = 5  ->  1.03125\n",
            "n = 6  ->  1.015625\n",
            "n = 7  ->  1.0078125\n",
            "n = 8  ->  1.0039062\n",
            "n = 9  ->  1.0019531\n",
            "n = 10  ->  1.0009766\n",
            "n = 11  ->  1.0004883\n",
            "n = 12  ->  1.0002441\n",
            "n = 13  ->  1.0001221\n",
            "n = 14  ->  1.000061\n",
            "n = 15  ->  1.0000305\n",
            "n = 16  ->  1.0000153\n",
            "n = 17  ->  1.0000076\n",
            "n = 18  ->  1.0000038\n",
            "n = 19  ->  1.0000019\n",
            "n = 20  ->  1.000001\n",
            "n = 21  ->  1.0000005\n",
            "n = 22  ->  1.0000002\n",
            "n = 23  ->  1.0000001\n",
            "n = 24  ->  1.0\n"
          ],
          "name": "stdout"
        }
      ]
    },
    {
      "cell_type": "markdown",
      "metadata": {
        "id": "TdsoCgLbYdTC",
        "colab_type": "text"
      },
      "source": [
        "*numpy.ﬂoat64*"
      ]
    },
    {
      "cell_type": "code",
      "metadata": {
        "id": "V2K8mBL_Xh3j",
        "colab_type": "code",
        "colab": {
          "base_uri": "https://localhost:8080/",
          "height": 935
        },
        "outputId": "826778c4-eea8-4d9f-fc9a-a1d658311ea0"
      },
      "source": [
        "import numpy as np\n",
        "\n",
        "diff=999\n",
        "n=0\n",
        "\n",
        "a=np.float64(1.)\n",
        "while diff>1:\n",
        "  diff=(a+a/np.float64(2.**n))\n",
        "  print(\"n =\",n,\" -> \",diff)\n",
        "  n+=1"
      ],
      "execution_count": 62,
      "outputs": [
        {
          "output_type": "stream",
          "text": [
            "n = 0  ->  2.0\n",
            "n = 1  ->  1.5\n",
            "n = 2  ->  1.25\n",
            "n = 3  ->  1.125\n",
            "n = 4  ->  1.0625\n",
            "n = 5  ->  1.03125\n",
            "n = 6  ->  1.015625\n",
            "n = 7  ->  1.0078125\n",
            "n = 8  ->  1.00390625\n",
            "n = 9  ->  1.001953125\n",
            "n = 10  ->  1.0009765625\n",
            "n = 11  ->  1.00048828125\n",
            "n = 12  ->  1.000244140625\n",
            "n = 13  ->  1.0001220703125\n",
            "n = 14  ->  1.00006103515625\n",
            "n = 15  ->  1.000030517578125\n",
            "n = 16  ->  1.0000152587890625\n",
            "n = 17  ->  1.0000076293945312\n",
            "n = 18  ->  1.0000038146972656\n",
            "n = 19  ->  1.0000019073486328\n",
            "n = 20  ->  1.0000009536743164\n",
            "n = 21  ->  1.0000004768371582\n",
            "n = 22  ->  1.000000238418579\n",
            "n = 23  ->  1.0000001192092896\n",
            "n = 24  ->  1.0000000596046448\n",
            "n = 25  ->  1.0000000298023224\n",
            "n = 26  ->  1.0000000149011612\n",
            "n = 27  ->  1.0000000074505806\n",
            "n = 28  ->  1.0000000037252903\n",
            "n = 29  ->  1.0000000018626451\n",
            "n = 30  ->  1.0000000009313226\n",
            "n = 31  ->  1.0000000004656613\n",
            "n = 32  ->  1.0000000002328306\n",
            "n = 33  ->  1.0000000001164153\n",
            "n = 34  ->  1.0000000000582077\n",
            "n = 35  ->  1.0000000000291038\n",
            "n = 36  ->  1.000000000014552\n",
            "n = 37  ->  1.000000000007276\n",
            "n = 38  ->  1.000000000003638\n",
            "n = 39  ->  1.000000000001819\n",
            "n = 40  ->  1.0000000000009095\n",
            "n = 41  ->  1.0000000000004547\n",
            "n = 42  ->  1.0000000000002274\n",
            "n = 43  ->  1.0000000000001137\n",
            "n = 44  ->  1.0000000000000568\n",
            "n = 45  ->  1.0000000000000284\n",
            "n = 46  ->  1.0000000000000142\n",
            "n = 47  ->  1.000000000000007\n",
            "n = 48  ->  1.0000000000000036\n",
            "n = 49  ->  1.0000000000000018\n",
            "n = 50  ->  1.0000000000000009\n",
            "n = 51  ->  1.0000000000000004\n",
            "n = 52  ->  1.0000000000000002\n",
            "n = 53  ->  1.0\n"
          ],
          "name": "stdout"
        }
      ]
    },
    {
      "cell_type": "markdown",
      "metadata": {
        "id": "jy5ijRNoaMbW",
        "colab_type": "text"
      },
      "source": [
        "*numpy.ﬂoat128*"
      ]
    },
    {
      "cell_type": "code",
      "metadata": {
        "id": "S8Vp9VvOD1w0",
        "colab_type": "code",
        "colab": {
          "base_uri": "https://localhost:8080/",
          "height": 1000
        },
        "outputId": "f0f45a5b-2d73-416f-b6f7-3a5bb97b4263"
      },
      "source": [
        "import numpy as np\n",
        "\n",
        "diff=999\n",
        "n=0\n",
        "\n",
        "a=np.float128(1.)\n",
        "while diff>1:\n",
        "  diff=(a+a/np.float128(2.**n))\n",
        "  print(\"n =\",n,\" -> \",diff)\n",
        "  n+=1"
      ],
      "execution_count": 63,
      "outputs": [
        {
          "output_type": "stream",
          "text": [
            "n = 0  ->  2.0\n",
            "n = 1  ->  1.5\n",
            "n = 2  ->  1.25\n",
            "n = 3  ->  1.125\n",
            "n = 4  ->  1.0625\n",
            "n = 5  ->  1.03125\n",
            "n = 6  ->  1.015625\n",
            "n = 7  ->  1.0078125\n",
            "n = 8  ->  1.00390625\n",
            "n = 9  ->  1.001953125\n",
            "n = 10  ->  1.0009765625\n",
            "n = 11  ->  1.00048828125\n",
            "n = 12  ->  1.000244140625\n",
            "n = 13  ->  1.0001220703125\n",
            "n = 14  ->  1.00006103515625\n",
            "n = 15  ->  1.000030517578125\n",
            "n = 16  ->  1.0000152587890625\n",
            "n = 17  ->  1.00000762939453125\n",
            "n = 18  ->  1.000003814697265625\n",
            "n = 19  ->  1.0000019073486328125\n",
            "n = 20  ->  1.0000009536743164062\n",
            "n = 21  ->  1.0000004768371582031\n",
            "n = 22  ->  1.0000002384185791016\n",
            "n = 23  ->  1.0000001192092895508\n",
            "n = 24  ->  1.0000000596046447754\n",
            "n = 25  ->  1.0000000298023223877\n",
            "n = 26  ->  1.0000000149011611938\n",
            "n = 27  ->  1.0000000074505805969\n",
            "n = 28  ->  1.0000000037252902985\n",
            "n = 29  ->  1.0000000018626451492\n",
            "n = 30  ->  1.0000000009313225746\n",
            "n = 31  ->  1.0000000004656612873\n",
            "n = 32  ->  1.0000000002328306437\n",
            "n = 33  ->  1.0000000001164153218\n",
            "n = 34  ->  1.0000000000582076609\n",
            "n = 35  ->  1.0000000000291038305\n",
            "n = 36  ->  1.0000000000145519152\n",
            "n = 37  ->  1.0000000000072759576\n",
            "n = 38  ->  1.0000000000036379788\n",
            "n = 39  ->  1.0000000000018189894\n",
            "n = 40  ->  1.0000000000009094947\n",
            "n = 41  ->  1.0000000000004547474\n",
            "n = 42  ->  1.0000000000002273737\n",
            "n = 43  ->  1.0000000000001136868\n",
            "n = 44  ->  1.0000000000000568434\n",
            "n = 45  ->  1.0000000000000284217\n",
            "n = 46  ->  1.0000000000000142109\n",
            "n = 47  ->  1.0000000000000071054\n",
            "n = 48  ->  1.0000000000000035527\n",
            "n = 49  ->  1.0000000000000017764\n",
            "n = 50  ->  1.0000000000000008882\n",
            "n = 51  ->  1.0000000000000004441\n",
            "n = 52  ->  1.000000000000000222\n",
            "n = 53  ->  1.000000000000000111\n",
            "n = 54  ->  1.0000000000000000555\n",
            "n = 55  ->  1.0000000000000000278\n",
            "n = 56  ->  1.0000000000000000139\n",
            "n = 57  ->  1.0000000000000000069\n",
            "n = 58  ->  1.0000000000000000035\n",
            "n = 59  ->  1.0000000000000000017\n",
            "n = 60  ->  1.0000000000000000009\n",
            "n = 61  ->  1.0000000000000000004\n",
            "n = 62  ->  1.0000000000000000002\n",
            "n = 63  ->  1.0000000000000000001\n",
            "n = 64  ->  1.0\n"
          ],
          "name": "stdout"
        }
      ]
    },
    {
      "cell_type": "markdown",
      "metadata": {
        "id": "63LP4PpiDhGS",
        "colab_type": "text"
      },
      "source": [
        "\n",
        "\n",
        "---\n",
        "\n",
        "\n",
        "Lab 2.3.hint"
      ]
    },
    {
      "cell_type": "code",
      "metadata": {
        "id": "VD6oIqb2D2JS",
        "colab_type": "code",
        "colab": {
          "base_uri": "https://localhost:8080/",
          "height": 295
        },
        "outputId": "b5894c1c-dd53-4bc9-a792-84afe9bccd20"
      },
      "source": [
        "import numpy as np\n",
        "import matplotlib.pyplot as plot\n",
        "\n",
        "time=np.arange(0, 10, 0.1)\n",
        "\n",
        "amplitude=np.sin(time)\n",
        "\n",
        "plot.plot(time,amplitude)\n",
        "\n",
        "plot.title('Sine wave')\n",
        "\n",
        "plot.xlabel('Time')\n",
        "\n",
        "plot.ylabel('Amplitude = sin(time)')\n",
        "\n",
        "plot.grid(True, which='both')\n",
        "plot.axhline(y=0, color='k')\n",
        "\n",
        "plot.show()\n",
        "\n",
        "plot.show()"
      ],
      "execution_count": 64,
      "outputs": [
        {
          "output_type": "display_data",
          "data": {
            "image/png": "[encoded data removed]",
            "text/plain": [
              "<Figure size 432x288 with 1 Axes>"
            ]
          },
          "metadata": {
            "tags": [],
            "needs_background": "light"
          }
        }
      ]
    },
    {
      "cell_type": "markdown",
      "metadata": {
        "id": "lKps9TxpDg5W",
        "colab_type": "text"
      },
      "source": [
        "Lab 2.3"
      ]
    },
    {
      "cell_type": "code",
      "metadata": {
        "id": "Cj3jPq0ibN_B",
        "colab_type": "code",
        "colab": {
          "base_uri": "https://localhost:8080/",
          "height": 716
        },
        "outputId": "76c5aae5-fcbe-417f-e22a-42483cd53ba2"
      },
      "source": [
        "from math import factorial\n",
        "import numpy as np\n",
        "\n",
        "\n",
        "def sin_approx(x, n):\n",
        "    val = 0\n",
        "    for m in range(n):\n",
        "        val += (-1)**m * x**(2 * m + 1) / factorial(2 * m + 1)\n",
        "        \n",
        "    return val\n",
        "\n",
        "\n",
        "def cos_approx(x, n):\n",
        "    val = 0\n",
        "    for m in range(n):\n",
        "        val += (-1)**m * x**(2 * m) / factorial(2 * m)\n",
        "        \n",
        "    return val\n",
        "\n",
        "\n",
        "# Import pyplot as plt\n",
        "import matplotlib.pyplot as plt\n",
        "# define a figure (3 rows, 2 colums)\n",
        "fig, ax = plt.subplots(nrows=3, ncols=2, figsize=(12, 12))\n",
        "\n",
        "#Number of terms in a Tylor series\n",
        "n=2\n",
        "\n",
        "t = np.arange(-1*np.pi, 1*np.pi, 0.01)\n",
        "\n",
        "#plot sine and it's Tylor series approximations\n",
        "ssin = np.sin(t)\n",
        "ax[0,0].set_ylim(-1.5,1.5)\n",
        "ax[0,0].plot(t, ssin, lw=2)\n",
        "tsin = sin_approx(t, n)\n",
        "ax[0,0].plot(t, tsin, lw=3)\n",
        "ax[0,0].grid()\n",
        "ax[0,0].set_title(\"Sine and it's Tylor approx.\")\n",
        "\n",
        "# and their difference\n",
        "ax[0,1].set_ylim(-0.01,0.01)\n",
        "ax[0,1].plot(t, tsin-ssin, lw=3)\n",
        "ax[0,1].grid()\n",
        "ax[0,1].set_title(\"Diff. of sine and it's Tylor approx.\")\n",
        "\n",
        "\n",
        "#plot cosine and it's Tylor series approximations\n",
        "scos = np.cos(t)\n",
        "ax[1,0].set_ylim(-1.5,1.5)\n",
        "ax[1,0].plot(t, scos, lw=2)\n",
        "tcos = cos_approx(t, n)\n",
        "ax[1,0].plot(t, tcos, lw=3)\n",
        "ax[1,0].grid()\n",
        "ax[1,0].set_title(\"Sine and it's Tylor approx.\")\n",
        "\n",
        "# and their difference\n",
        "ax[1,1].set_ylim(-0.01,0.01)\n",
        "ax[1,1].plot(t, tcos-scos, lw=3)\n",
        "ax[1,1].grid()\n",
        "ax[1,1].set_title(\"Diff. of cos and it's Tylor approx.\")\n",
        "\n",
        "\n",
        "#plot sin^2+cos^2 from numpy and approximated\n",
        "ax[2,0].set_ylim(0.5,1.5)\n",
        "ax[2,0].plot(t, scos**2 + ssin**2, lw=2)\n",
        "tcos = cos_approx(t, n)\n",
        "ax[2,0].plot(t, tsin**2+tcos**2, lw=3)\n",
        "ax[2,0].grid()\n",
        "ax[2,0].set_title(\"sin^2+cos^2 and it's Tylor approx.\")\n",
        "\n",
        "# Plot their difference\n",
        "ax[2,1].set_ylim(-0.05,0.05)\n",
        "ax[2,1].plot(t, tsin**2+tcos**2 - (scos**2 + ssin**2), lw=3)\n",
        "ax[2,1].grid()\n",
        "ax[2,1].set_title(\"sin^2+cos^2 - it's Tylor approx.\")\n",
        "\n",
        "\n",
        "\n",
        "\n",
        "plt.show()\n"
      ],
      "execution_count": 65,
      "outputs": [
        {
          "output_type": "display_data",
          "data": {
            "image/png": "[encoded data removed]",
            "text/plain": [
              "<Figure size 864x864 with 6 Axes>"
            ]
          },
          "metadata": {
            "tags": [],
            "needs_background": "light"
          }
        }
      ]
    }
  ]
}