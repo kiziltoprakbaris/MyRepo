{
  "nbformat": 4,
  "nbformat_minor": 0,
  "metadata": {
    "colab": {
      "name": "Lab2 (1-2-3 missed).ipynb",
      "provenance": [],
      "authorship_tag": "ABX9TyPrvDn2zdgusxQ+RAfdGKba",
      "include_colab_link": true
    },
    "kernelspec": {
      "name": "python3",
      "display_name": "Python 3"
    }
  },
  "cells": [
    {
      "cell_type": "markdown",
      "metadata": {
        "id": "view-in-github",
        "colab_type": "text"
      },
      "source": [
        "<a href=\"https://colab.research.google.com/github/kiziltoprakbaris/MyRepo/blob/master/Lab%202.ipynb\" target=\"_parent\"><img src=\"https://colab.research.google.com/assets/colab-badge.svg\" alt=\"Open In Colab\"/></a>"
      ]
    },
    {
      "cell_type": "markdown",
      "metadata": {
        "id": "7bPK7-SUDgo6",
        "colab_type": "text"
      },
      "source": [
        "Lab 2.1"
      ]
    },
    {
      "cell_type": "markdown",
      "metadata": {
        "id": "CiWxsBNISkYC",
        "colab_type": "text"
      },
      "source": [
        "\n",
        "\n"
      ]
    },
    {
      "cell_type": "code",
      "metadata": {
        "id": "Sf5iE8mPWPUj",
        "colab_type": "code",
        "colab": {}
      },
      "source": [
        "*  rd(x)=(-1)**(k)*(0.d1d2)*2**(e1e2-1)\n",
        "\n",
        "the range of e is [0;(2**2)-1] = [0;3], \n",
        "the range of di is [0;1]\n",
        "\n",
        "\n",
        "*  The possibilities are following;\n",
        "\n",
        "e=0                 (+)\n",
        "-(0.00)2**-1    (0.00)2**-1\n",
        "-(0.01)2**-1    (0.01)2**-1\n",
        "-(0.10)2**-1    (0.10)2**-1\n",
        "-(0.11)2**-1    (0.11)2**-1\n",
        "\n",
        "e=1\n",
        "-(0.00)2**0     (0.00)2**0\n",
        "-(0.01)2**0     (0.01)2**0\n",
        "-(0.10)2**0     (0.10)2**0\n",
        "-(0.11)2**0     (0.11)2**0\n",
        "\n",
        "e=2\n",
        "-(0.00)2**1     (0.00)2**1\n",
        "-(0.01)2**1     (0.01)2**1\n",
        "-(0.10)2**1     (0.10)2**1\n",
        "-(0.11)2**1     (0.11)2**1\n",
        "\n",
        "e=3\n",
        "-(0.00)2**2     (0.00)2**2\n",
        "-(0.01)2**2     (0.01)2**2\n",
        "-(0.10)2**2     (0.10)2**2\n",
        "-(0.11)2**2     (0.11)2**2\n",
        "\n",
        "\n",
        "\n",
        "*  The smallest number is -(0.1)2**-1,  -0.05\n",
        "\n",
        "*  The largest number is (0.11)2**2   = 0.44List item"
      ],
      "execution_count": 0,
      "outputs": []
    },
    {
      "cell_type": "markdown",
      "metadata": {
        "id": "mbCrJ22ZDg--",
        "colab_type": "text"
      },
      "source": [
        "\n",
        "\n",
        "---\n",
        "\n",
        "\n",
        "Lab 2.2.hint"
      ]
    },
    {
      "cell_type": "code",
      "metadata": {
        "id": "L7KV92RcD1QQ",
        "colab_type": "code",
        "colab": {}
      },
      "source": [
        "import numpy as np\n",
        "\n",
        "x=0\n",
        "n=0\n",
        "while x<10:\n",
        "  x=(1+np.float16(n))\n",
        "  print(\"n = \",n,\", x = \",x)\n",
        "  n+=1"
      ],
      "execution_count": 0,
      "outputs": []
    },
    {
      "cell_type": "markdown",
      "metadata": {
        "id": "eVqDzsgnDgxs",
        "colab_type": "text"
      },
      "source": [
        "Lab 2.2\n"
      ]
    },
    {
      "cell_type": "markdown",
      "metadata": {
        "id": "Hh4A40MdYEdL",
        "colab_type": "text"
      },
      "source": [
        "*numpy.ﬂoat16*"
      ]
    },
    {
      "cell_type": "code",
      "metadata": {
        "id": "M3E5aQl0YNki",
        "colab_type": "code",
        "colab": {}
      },
      "source": [
        "import numpy as np\n",
        "\n",
        "diff=999\n",
        "n=0\n",
        "\n",
        "a=np.float16(1.)\n",
        "while diff>1:\n",
        "  diff=(a+a/np.float16(2.**n))\n",
        "  print(n,\" \",diff)\n",
        "  n+=1"
      ],
      "execution_count": 0,
      "outputs": []
    },
    {
      "cell_type": "markdown",
      "metadata": {
        "id": "6pbGljLqYTKM",
        "colab_type": "text"
      },
      "source": [
        "*numpy.ﬂoat32*"
      ]
    },
    {
      "cell_type": "code",
      "metadata": {
        "id": "oX6-SNkOYWj-",
        "colab_type": "code",
        "colab": {}
      },
      "source": [
        "import numpy as np\n",
        "\n",
        "diff=999\n",
        "n=0\n",
        "\n",
        "a=np.float32(1.)\n",
        "while diff>1:\n",
        "  diff=(a+a/np.float32(2.**n))\n",
        "  print(n,\" \",diff)\n",
        "  n+=1"
      ],
      "execution_count": 0,
      "outputs": []
    },
    {
      "cell_type": "markdown",
      "metadata": {
        "id": "TdsoCgLbYdTC",
        "colab_type": "text"
      },
      "source": [
        "*numpy.ﬂoat64*"
      ]
    },
    {
      "cell_type": "code",
      "metadata": {
        "id": "V2K8mBL_Xh3j",
        "colab_type": "code",
        "colab": {}
      },
      "source": [
        "import numpy as np\n",
        "\n",
        "diff=999\n",
        "n=0\n",
        "\n",
        "a=np.float64(1.)\n",
        "while diff>1:\n",
        "  diff=(a+a/np.float64(2.**n))\n",
        "  print(n,\" \",diff)\n",
        "  n+=1"
      ],
      "execution_count": 0,
      "outputs": []
    },
    {
      "cell_type": "markdown",
      "metadata": {
        "id": "jy5ijRNoaMbW",
        "colab_type": "text"
      },
      "source": [
        "*numpy.ﬂoat128*"
      ]
    },
    {
      "cell_type": "code",
      "metadata": {
        "id": "S8Vp9VvOD1w0",
        "colab_type": "code",
        "colab": {}
      },
      "source": [
        "import numpy as np\n",
        "\n",
        "diff=999\n",
        "n=0\n",
        "\n",
        "a=np.float128(1.)\n",
        "while diff>1:\n",
        "  diff=(a+a/np.float128(2.**n))\n",
        "  print(n,\" \",diff)\n",
        "  n+=1"
      ],
      "execution_count": 0,
      "outputs": []
    },
    {
      "cell_type": "markdown",
      "metadata": {
        "id": "63LP4PpiDhGS",
        "colab_type": "text"
      },
      "source": [
        "\n",
        "\n",
        "---\n",
        "\n",
        "\n",
        "Lab 2.3.hint"
      ]
    },
    {
      "cell_type": "code",
      "metadata": {
        "id": "VD6oIqb2D2JS",
        "colab_type": "code",
        "colab": {}
      },
      "source": [
        "import numpy as np\n",
        "import matplotlib.pyplot as plot\n",
        "\n",
        "time=np.arange(0, 10, 0.1)\n",
        "\n",
        "amplitude=np.sin(time)\n",
        "\n",
        "plot.plot(time,amplitude)\n",
        "\n",
        "plot.title('Sine wave')\n",
        "\n",
        "plot.xlabel('Time')\n",
        "\n",
        "plot.ylabel('Amplitude = sin(time)')\n",
        "\n",
        "plot.grid(True, which='both')\n",
        "plot.axhline(y=0, color='k')\n",
        "\n",
        "plot.show()\n",
        "\n",
        "plot.show()"
      ],
      "execution_count": 0,
      "outputs": []
    },
    {
      "cell_type": "markdown",
      "metadata": {
        "id": "lKps9TxpDg5W",
        "colab_type": "text"
      },
      "source": [
        "Lab 2.3"
      ]
    },
    {
      "cell_type": "code",
      "metadata": {
        "id": "Cj3jPq0ibN_B",
        "colab_type": "code",
        "colab": {}
      },
      "source": [
        ""
      ],
      "execution_count": 0,
      "outputs": []
    }
  ]
}