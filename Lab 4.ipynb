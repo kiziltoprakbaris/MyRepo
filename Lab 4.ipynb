{
  "nbformat": 4,
  "nbformat_minor": 0,
  "metadata": {
    "colab": {
      "name": "Untitled7.ipynb",
      "provenance": [],
      "authorship_tag": "ABX9TyM4duzxuOiwurN8I7b7dfFa",
      "include_colab_link": true
    },
    "kernelspec": {
      "name": "python3",
      "display_name": "Python 3"
    }
  },
  "cells": [
    {
      "cell_type": "markdown",
      "metadata": {
        "id": "view-in-github",
        "colab_type": "text"
      },
      "source": [
        "<a href=\"https://colab.research.google.com/github/kiziltoprakbaris/MyRepo/blob/master/Lab%204.ipynb\" target=\"_parent\"><img src=\"https://colab.research.google.com/assets/colab-badge.svg\" alt=\"Open In Colab\"/></a>"
      ]
    },
    {
      "cell_type": "markdown",
      "metadata": {
        "id": "GxpgI3Z74-mE",
        "colab_type": "text"
      },
      "source": [
        "Lab 4.1"
      ]
    },
    {
      "cell_type": "code",
      "metadata": {
        "id": "wD6GLyfA5NGb",
        "colab_type": "code",
        "outputId": "c344930e-2e33-49fe-dcd9-7060f3393be4",
        "colab": {
          "base_uri": "https://localhost:8080/",
          "height": 187
        }
      },
      "source": [
        "import math\n",
        "\n",
        "S=8 #we want to approximate sqrt(8)\n",
        "\n",
        "def f(x) :\n",
        "  return x*x-S\n",
        "\n",
        "def g(x):\n",
        "  return (1/2)*(x+S/x)\n",
        "\n",
        "#Implementing fixed point method\n",
        "\n",
        "def fixedPointIteration(x0, e,ex, N):\n",
        "  print('\\n\\n*** FIXED POINT ITERATION ***')\n",
        "  step=1\n",
        "  condition=True\n",
        "  while condition:\n",
        "    x1=g(x0)\n",
        "    xhelp=x1-x0\n",
        "    print('Iteration-%d, x1 = %0.6f and f(x1)= %0.6f' %(step, x1, f(x1)))\n",
        "    x0=x1\n",
        "\n",
        "    step=step+1\n",
        "\n",
        "    condition1 = abs(f(x1))>e\n",
        "    condition2 = step<N\n",
        "    condition3 = abs(xhelp)>ex\n",
        "    condition = condition1 and condition2 and condition3\n",
        "\n",
        "\n",
        "#Input section \n",
        "x0 = input('Enter Guess:')\n",
        "e= input('Tolerable error:')\n",
        "N= input('Maximum Step:')\n",
        "ex= input('Second tolerable error:')\n",
        "\n",
        "#Converting x0 and e to float\n",
        "x0=float(x0)\n",
        "e=float(e)\n",
        "ex=float(ex)\n",
        "\n",
        "#Converting N to integer\n",
        "N= int(N)\n",
        "\n",
        "#Starting fixed point iteration\n",
        "fixedPointIteration(x0,e, ex,N)"
      ],
      "execution_count": 5,
      "outputs": [
        {
          "output_type": "stream",
          "text": [
            "Enter Guess:4\n",
            "Tolerable error:0.001\n",
            "Maximum Step:6\n",
            "Second tolerable error:0.0001\n",
            "\n",
            "\n",
            "*** FIXED POINT ITERATION ***\n",
            "Iteration-1, x1 = 3.000000 and f(x1)= 1.000000\n",
            "Iteration-2, x1 = 2.833333 and f(x1)= 0.027778\n",
            "Iteration-3, x1 = 2.828431 and f(x1)= 0.000024\n"
          ],
          "name": "stdout"
        }
      ]
    },
    {
      "cell_type": "markdown",
      "metadata": {
        "id": "bfBK-TkQ7fOO",
        "colab_type": "text"
      },
      "source": [
        "\n",
        "\n",
        "---\n",
        "\n",
        "Lab 4.2"
      ]
    },
    {
      "cell_type": "code",
      "metadata": {
        "id": "2Z6KvSDs7iZ1",
        "colab_type": "code",
        "colab": {
          "base_uri": "https://localhost:8080/",
          "height": 520
        },
        "outputId": "a2e812ae-8c16-46b5-f4d5-1fc148049290"
      },
      "source": [
        "# Defining Function\n",
        "import numpy as np\n",
        "\n",
        "def f(x):\n",
        "   return np.sin(4*x)*x\n",
        "\n",
        "# Defining derivative of function\n",
        "def g(x):\n",
        "   return np.sin(4*x)+4*np.cos(4*x)*x\n",
        "\n",
        "# Implementing Newton Method\n",
        "def newton(x0,e,N):\n",
        "   print('\\n\\n*** NEWTON METHOD IMPLEMENTATION ***')\n",
        "   step = 1\n",
        "   flag = 1\n",
        "   condition = True\n",
        "   while condition:\n",
        "      if g(x0) == 0.0:\n",
        "         print('Divide by zero error!')\n",
        "         break\n",
        "      x1 = x0 - f(x0)/g(x0)\n",
        "      print('Iteration-%d, x1 = %0.6f and f(x1) = %0.6f' % (step, x1, f(x1)))\n",
        "      x0 = x1\n",
        "      step = step + 1\n",
        "      if step > N:\n",
        "         flag = 0\n",
        "         break\n",
        "      condition = abs(f(x1)) > e\n",
        "      if flag==1:\n",
        "         print('\\nRequired root is: %0.8f' % x1)\n",
        "      else:\n",
        "         print('\\nNot Convergent.')\n",
        "   return x1      \n",
        "         \n",
        "# Input Section\n",
        "x0 = input('Enter Guess: ')\n",
        "e = input('Tolerable Error: ')\n",
        "N = input('Maximum Step: ')\n",
        "# Converting x0 and e to float\n",
        "x0 = float(x0)\n",
        "e = float(e)\n",
        "# Converting N to integer\n",
        "N = int(N)\n",
        "#Note: You can combine above three section like this\n",
        "# x0 = float(input('Enter Guess: '))\n",
        "# e = float(input('Tolerable Error: '))\n",
        "# N = int(input('Maximum Step: '))\n",
        "# Starting Newton Method\n",
        "x1 = newton(x0,e,N)\n",
        "\n",
        "\n",
        "\n",
        "#plot function\n",
        "\n",
        "# Import pyplot as plt\n",
        "import matplotlib.pyplot as plt\n",
        "\n",
        "\n",
        "t = np.arange(min(x1,x0)-2, max(x1,x0)+2, 0.01)\n",
        "\n",
        "#plot the function\n",
        "ssin = f(t)\n",
        "zero = [0] * len(t)\n",
        "plt.plot(t, ssin, lw=2, label='function')\n",
        "plt.plot(t, zero, lw=3)\n",
        "\n",
        "# plot the root found\n",
        "plt.plot(t, g(x0)*t-g(x0)*x0+f(x0), '-.', color='grey', label='differential', lw=1)\n",
        "plt.plot(x1, f(x1), 'o', label='root')\n",
        "plt.plot(x0, f(x0), 'o', label='starting guess')\n",
        "\n",
        "\n",
        "plt.legend()\n",
        "plt.show()"
      ],
      "execution_count": 9,
      "outputs": [
        {
          "output_type": "stream",
          "text": [
            "Enter Guess: 10\n",
            "Tolerable Error: 0.0001\n",
            "Maximum Step: 5\n",
            "\n",
            "\n",
            "*** NEWTON METHOD IMPLEMENTATION ***\n",
            "Iteration-1, x1 = 10.287329 and f(x1) = -3.124630\n",
            "\n",
            "Required root is: 10.28732894\n",
            "Iteration-2, x1 = 10.208242 and f(x1) = 0.078958\n",
            "\n",
            "Required root is: 10.20824241\n",
            "Iteration-3, x1 = 10.210177 and f(x1) = -0.000017\n",
            "\n",
            "Required root is: 10.21017653\n"
          ],
          "name": "stdout"
        },
        {
          "output_type": "display_data",
          "data": {
            "image/png": "[encoded data removed]",
            "text/plain": [
              "<Figure size 432x288 with 1 Axes>"
            ]
          },
          "metadata": {
            "tags": [],
            "needs_background": "light"
          }
        }
      ]
    }
  ]
}