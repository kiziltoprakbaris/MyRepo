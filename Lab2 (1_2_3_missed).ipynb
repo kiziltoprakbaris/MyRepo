{
  "nbformat": 4,
  "nbformat_minor": 0,
  "metadata": {
    "colab": {
      "name": "Lab2 (1-2-3 missed).ipynb",
      "provenance": [],
      "authorship_tag": "ABX9TyMI7pYAV0r/gwbCDana6zFn",
      "include_colab_link": true
    },
    "kernelspec": {
      "name": "python3",
      "display_name": "Python 3"
    }
  },
  "cells": [
    {
      "cell_type": "markdown",
      "metadata": {
        "id": "view-in-github",
        "colab_type": "text"
      },
      "source": [
        "<a href=\"https://colab.research.google.com/github/kiziltoprakbaris/MyRepo/blob/master/Lab2(1_2_3_missed).ipynb\" target=\"_parent\"><img src=\"https://colab.research.google.com/assets/colab-badge.svg\" alt=\"Open In Colab\"/></a>"
      ]
    },
    {
      "cell_type": "markdown",
      "metadata": {
        "id": "7bPK7-SUDgo6",
        "colab_type": "text"
      },
      "source": [
        "Lab2.1"
      ]
    },
    {
      "cell_type": "code",
      "metadata": {
        "id": "YS2jWmVfDekn",
        "colab_type": "code",
        "colab": {}
      },
      "source": [
        ""
      ],
      "execution_count": 0,
      "outputs": []
    },
    {
      "cell_type": "markdown",
      "metadata": {
        "id": "mbCrJ22ZDg--",
        "colab_type": "text"
      },
      "source": [
        "Lab2.2.hint\n"
      ]
    },
    {
      "cell_type": "code",
      "metadata": {
        "id": "L7KV92RcD1QQ",
        "colab_type": "code",
        "colab": {}
      },
      "source": [
        "import numpy as np\n",
        "\n",
        "x=0\n",
        "n=0\n",
        "while x<10:\n",
        "  x=(1+np.float16(n))\n",
        "  print(\"n = \",n,\", x = \",x)\n",
        "  n+=1"
      ],
      "execution_count": 0,
      "outputs": []
    },
    {
      "cell_type": "markdown",
      "metadata": {
        "id": "eVqDzsgnDgxs",
        "colab_type": "text"
      },
      "source": [
        "Lab2.2\n"
      ]
    },
    {
      "cell_type": "code",
      "metadata": {
        "id": "S8Vp9VvOD1w0",
        "colab_type": "code",
        "colab": {}
      },
      "source": [
        ""
      ],
      "execution_count": 0,
      "outputs": []
    },
    {
      "cell_type": "markdown",
      "metadata": {
        "id": "63LP4PpiDhGS",
        "colab_type": "text"
      },
      "source": [
        "Lab2.3.hint"
      ]
    },
    {
      "cell_type": "code",
      "metadata": {
        "id": "VD6oIqb2D2JS",
        "colab_type": "code",
        "colab": {}
      },
      "source": [
        "import numpy as np\n",
        "import matplotlib.pyplot as plot\n",
        "\n",
        "time=np.arange(0, 10, 0.1)\n",
        "\n",
        "amplitude=np.sin(time)\n",
        "\n",
        "plot.plot(time,amplitude)\n",
        "\n",
        "plot.title('Sine wave')\n",
        "\n",
        "plot.xlabel('Time')\n",
        "\n",
        "plot.ylabel('Amplitude = sin(time)')\n",
        "\n",
        "plot.grid(True, which='both')\n",
        "plot.axhline(y=0, color='k')\n",
        "\n",
        "plot.show()\n",
        "\n",
        "plot.show()"
      ],
      "execution_count": 0,
      "outputs": []
    },
    {
      "cell_type": "markdown",
      "metadata": {
        "id": "lKps9TxpDg5W",
        "colab_type": "text"
      },
      "source": [
        "Lab2.3"
      ]
    },
    {
      "cell_type": "code",
      "metadata": {
        "id": "jV5Vj4aeD2tk",
        "colab_type": "code",
        "colab": {}
      },
      "source": [
        "#import packages\n",
        "from math import factorial\n",
        "import numpy as np"
      ],
      "execution_count": 0,
      "outputs": []
    },
    {
      "cell_type": "code",
      "metadata": {
        "id": "Mpcpj-57EOmW",
        "colab_type": "code",
        "colab": {}
      },
      "source": [
        "def sin_approx(x, n):\n",
        "    val = 0\n",
        "    for m in range(n):\n",
        "        val += (-1)**m * x**(2 * m + 1) / factorial(2 * m + 1)\n",
        "        \n",
        "    return val"
      ],
      "execution_count": 0,
      "outputs": []
    },
    {
      "cell_type": "code",
      "metadata": {
        "id": "WyVo0CykEO9r",
        "colab_type": "code",
        "colab": {}
      },
      "source": [
        "def cos_approx(x, n):\n",
        "    val = 0\n",
        "    for m in range(n):\n",
        "        val += (-1)**m * x**(2 * m) / factorial(2 * m)\n",
        "        \n",
        "    return val"
      ],
      "execution_count": 0,
      "outputs": []
    },
    {
      "cell_type": "code",
      "metadata": {
        "id": "shyYxdnCEPSS",
        "colab_type": "code",
        "colab": {}
      },
      "source": [
        "# Import pyplot as plt\n",
        "import matplotlib.pyplot as plt\n",
        "# define a figure (3 rows, 2 colums)\n",
        "fig, ax = plt.subplots(nrows=3, ncols=2, figsize=(12, 12))\n",
        "\n",
        "#Number of terms in a Tylor series\n",
        "n=3\n",
        "\n",
        "t = np.arange(-1*np.pi, 1*np.pi, 0.01)\n",
        "\n",
        "#plot sine and it's Tylor series approximations\n",
        "ssin = np.sin(t)\n",
        "ax[0,0].set_ylim(-1.5,1.5)\n",
        "ax[0,0].plot(t, ssin, lw=2)\n",
        "tsin = sin_approx(t, n)\n",
        "ax[0,0].plot(t, tsin, lw=3)\n",
        "ax[0,0].grid()\n",
        "ax[0,0].set_title(\"Sine and it's Tylor approx.\")\n",
        "\n",
        "\n",
        "# and their difference\n",
        "ax[0,1].set_ylim(-0.01,0.01)\n",
        "ax[0,1].plot(t, tsin-ssin, lw=3)\n",
        "ax[0,1].grid()\n",
        "ax[0,1].set_title(\"Diff. of sine and it's Tylor approx.\")\n",
        "\n",
        "#plot cosine and it's Tylor series approximations\n",
        "scos = np.cos(t)\n",
        "ax[1,0].set_ylim(-1.5,1.5)\n",
        "ax[1,0].plot(t, scos, lw=2)\n",
        "tcos = cos_approx(t, n)\n",
        "ax[1,0].plot(t, tcos, lw=3)\n",
        "ax[1,0].grid()\n",
        "ax[1,0].set_title(\"Sine and it's Tylor approx.\")\n",
        "\n",
        "# and their difference\n",
        "ax[1,1].set_ylim(-0.01,0.01)\n",
        "ax[1,1].plot(t, tcos-scos, lw=3)\n",
        "ax[1,1].grid()\n",
        "ax[1,1].set_title(\"Diff. of cos and it's Tylor approx.\")\n",
        "\n",
        "#plot sin^2+cos^2 from numpy and approximated\n",
        "ax[2,0].set_ylim(0.5,1.5)\n",
        "ax[2,0].plot(t, scos**2 + ssin**2, lw=2)\n",
        "tcos = cos_approx(t, n)\n",
        "ax[2,0].plot(t, tsin**2+tcos**2, lw=3)\n",
        "ax[2,0].grid()\n",
        "ax[2,0].set_title(\"sin^2+cos^2 and it's Tylor approx.\")\n",
        "\n",
        "\n",
        "# Plot their difference\n",
        "ax[2,1].set_ylim(-0.05,0.05)\n",
        "ax[2,1].plot(t, tsin**2+tcos**2 - (scos**2 + ssin**2), lw=3)\n",
        "ax[2,1].grid()\n",
        "ax[2,1].set_title(\"sin^2+cos^2 - it's Tylor approx.\")\n",
        "\n",
        "\n",
        "\n",
        "\n",
        "plt.show()"
      ],
      "execution_count": 0,
      "outputs": []
    }
  ]
}
