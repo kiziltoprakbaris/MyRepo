{
  "nbformat": 4,
  "nbformat_minor": 0,
  "metadata": {
    "colab": {
      "name": "Untitled6.ipynb",
      "provenance": [],
      "authorship_tag": "ABX9TyNXyZlMkdYeTAbLX0bvmnmi",
      "include_colab_link": true
    },
    "kernelspec": {
      "name": "python3",
      "display_name": "Python 3"
    }
  },
  "cells": [
    {
      "cell_type": "markdown",
      "metadata": {
        "id": "view-in-github",
        "colab_type": "text"
      },
      "source": [
        "<a href=\"https://colab.research.google.com/github/kiziltoprakbaris/MyRepo/blob/master/Lab%201%20(3rd%20is%20missed).ipynb\" target=\"_parent\"><img src=\"https://colab.research.google.com/assets/colab-badge.svg\" alt=\"Open In Colab\"/></a>"
      ]
    },
    {
      "cell_type": "markdown",
      "metadata": {
        "id": "tym2sFQT9r5E",
        "colab_type": "text"
      },
      "source": [
        "Lab 1.1"
      ]
    },
    {
      "cell_type": "code",
      "metadata": {
        "id": "4TfBBJPl9S4v",
        "colab_type": "code",
        "colab": {}
      },
      "source": [
        "f1 = 0\n",
        "f2 = 1\n",
        "ar = [f1, f2]\n",
        "for i in range (8):\n",
        "    f3 = f1 + f2\n",
        "    ar.append (f3)\n",
        "    f1 = f2\n",
        "    f2 = f3\n",
        "print (\"a=\",ar)"
      ],
      "execution_count": 0,
      "outputs": []
    },
    {
      "cell_type": "markdown",
      "metadata": {
        "id": "--zlqAaV9w5X",
        "colab_type": "text"
      },
      "source": [
        "Lab1.2"
      ]
    },
    {
      "cell_type": "code",
      "metadata": {
        "id": "wnVRmLo39d-Z",
        "colab_type": "code",
        "colab": {}
      },
      "source": [
        "nterms = int(input(\"How many terms? \"))\n",
        "n1, n2 = 0, 1\n",
        "count = 0\n",
        "if nterms <= 0:\n",
        "   print(\"You should enter only positive number\")\n",
        "elif nterms == 1:\n",
        "   print(\"Fibonacci sequence upto\",nterms,\":\")\n",
        "   print(n1)\n",
        "else:\n",
        "   print(\"Fibonacci sequence:\")\n",
        "   while count < nterms:\n",
        "       print(n1)\n",
        "       nth = n1 + n2\n",
        "       n1 = n2\n",
        "       n2 = nth\n",
        "       count += 1"
      ],
      "execution_count": 0,
      "outputs": []
    },
    {
      "cell_type": "markdown",
      "metadata": {
        "id": "LOH1Fsl693Tu",
        "colab_type": "text"
      },
      "source": [
        "Lab1.3"
      ]
    },
    {
      "cell_type": "code",
      "metadata": {
        "id": "dliPaxdg9jw8",
        "colab_type": "code",
        "colab": {}
      },
      "source": [
        ""
      ],
      "execution_count": 0,
      "outputs": []
    }
  ]
}