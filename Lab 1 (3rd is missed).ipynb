{
  "nbformat": 4,
  "nbformat_minor": 0,
  "metadata": {
    "colab": {
      "name": "Untitled6.ipynb",
      "provenance": [],
      "authorship_tag": "ABX9TyOIcLGdLz55DHCPnMt9JCE4",
      "include_colab_link": true
    },
    "kernelspec": {
      "name": "python3",
      "display_name": "Python 3"
    }
  },
  "cells": [
    {
      "cell_type": "markdown",
      "metadata": {
        "id": "view-in-github",
        "colab_type": "text"
      },
      "source": [
        "<a href=\"https://colab.research.google.com/github/kiziltoprakbaris/MyRepo/blob/master/Lab%201%20(3rd%20is%20missed).ipynb\" target=\"_parent\"><img src=\"https://colab.research.google.com/assets/colab-badge.svg\" alt=\"Open In Colab\"/></a>"
      ]
    },
    {
      "cell_type": "markdown",
      "metadata": {
        "id": "tym2sFQT9r5E",
        "colab_type": "text"
      },
      "source": [
        "Lab 1.1"
      ]
    },
    {
      "cell_type": "code",
      "metadata": {
        "id": "4TfBBJPl9S4v",
        "colab_type": "code",
        "colab": {
          "base_uri": "https://localhost:8080/",
          "height": 34
        },
        "outputId": "3f3715d4-b837-4a1a-de6d-4dc99814132b"
      },
      "source": [
        "a=[1,1,2,3,5,8,13,21,34,55,89]\n",
        "[number for number in a if number <3 ]"
      ],
      "execution_count": 8,
      "outputs": [
        {
          "output_type": "execute_result",
          "data": {
            "text/plain": [
              "[1, 1, 2]"
            ]
          },
          "metadata": {
            "tags": []
          },
          "execution_count": 8
        }
      ]
    },
    {
      "cell_type": "markdown",
      "metadata": {
        "id": "--zlqAaV9w5X",
        "colab_type": "text"
      },
      "source": [
        "\n",
        "\n",
        "Lab 1.2"
      ]
    },
    {
      "cell_type": "code",
      "metadata": {
        "id": "wnVRmLo39d-Z",
        "colab_type": "code",
        "colab": {
          "base_uri": "https://localhost:8080/",
          "height": 238
        },
        "outputId": "73e6f5be-e4c8-48b0-e59b-054a2a2851f3"
      },
      "source": [
        "nterms = int(input(\"How many terms? \"))\n",
        "n1, n2 = 0, 1\n",
        "count = 0\n",
        "if nterms <= 0:\n",
        "   print(\"You should enter only positive number\")\n",
        "elif nterms == 1:\n",
        "   print(\"Fibonacci sequence upto\",nterms,\":\")\n",
        "   print(n1)\n",
        "else:\n",
        "   print(\"Fibonacci sequence:\")\n",
        "   while count < nterms:\n",
        "       print(n1)\n",
        "       nth = n1 + n2\n",
        "       n1 = n2\n",
        "       n2 = nth\n",
        "       count += 1"
      ],
      "execution_count": 9,
      "outputs": [
        {
          "output_type": "stream",
          "text": [
            "How many terms? 11\n",
            "Fibonacci sequence:\n",
            "0\n",
            "1\n",
            "1\n",
            "2\n",
            "3\n",
            "5\n",
            "8\n",
            "13\n",
            "21\n",
            "34\n",
            "55\n"
          ],
          "name": "stdout"
        }
      ]
    },
    {
      "cell_type": "markdown",
      "metadata": {
        "id": "LOH1Fsl693Tu",
        "colab_type": "text"
      },
      "source": [
        "\n",
        "\n",
        "Lab 1.3"
      ]
    },
    {
      "cell_type": "code",
      "metadata": {
        "id": "dliPaxdg9jw8",
        "colab_type": "code",
        "colab": {
          "base_uri": "https://localhost:8080/",
          "height": 68
        },
        "outputId": "234114bb-3ea1-4c9d-b688-043e5ed52021"
      },
      "source": [
        "def dedupe_v1(x):\n",
        "  y = []\n",
        "  for i in x:\n",
        "    if i not in y:\n",
        "      y.append(i)\n",
        "  return y\n",
        "def dedupe_v2(x):\n",
        "    return list(set(x))\n",
        "a = [1,2,3,4,5,4,3,2,1]\n",
        "print (a)\n",
        "print (dedupe_v1(a))\n",
        "print (dedupe_v2(a))"
      ],
      "execution_count": 10,
      "outputs": [
        {
          "output_type": "stream",
          "text": [
            "[1, 2, 3, 4, 5, 4, 3, 2, 1]\n",
            "[1, 2, 3, 4, 5]\n",
            "[1, 2, 3, 4, 5]\n"
          ],
          "name": "stdout"
        }
      ]
    }
  ]
}