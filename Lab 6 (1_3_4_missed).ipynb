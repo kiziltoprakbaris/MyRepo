{
  "nbformat": 4,
  "nbformat_minor": 0,
  "metadata": {
    "colab": {
      "name": "Lab 6 (1-3-4 missed).ipynb",
      "provenance": [],
      "authorship_tag": "ABX9TyPo7ELBC5CuYC+5B0FNjmvW",
      "include_colab_link": true
    },
    "kernelspec": {
      "name": "python3",
      "display_name": "Python 3"
    }
  },
  "cells": [
    {
      "cell_type": "markdown",
      "metadata": {
        "id": "view-in-github",
        "colab_type": "text"
      },
      "source": [
        "<a href=\"https://colab.research.google.com/github/kiziltoprakbaris/MyRepo/blob/master/Lab%206%20(1_3_4_missed).ipynb\" target=\"_parent\"><img src=\"https://colab.research.google.com/assets/colab-badge.svg\" alt=\"Open In Colab\"/></a>"
      ]
    },
    {
      "cell_type": "markdown",
      "metadata": {
        "id": "zKS2YaoQD1ST",
        "colab_type": "text"
      },
      "source": [
        ""
      ]
    },
    {
      "cell_type": "markdown",
      "metadata": {
        "id": "14b7BHB6IK5G",
        "colab_type": "text"
      },
      "source": [
        "Lab 6.1"
      ]
    },
    {
      "cell_type": "code",
      "metadata": {
        "id": "D9ORIC5LH7DG",
        "colab_type": "code",
        "colab": {}
      },
      "source": [
        ""
      ],
      "execution_count": 0,
      "outputs": []
    },
    {
      "cell_type": "markdown",
      "metadata": {
        "id": "XX5FKZMaILVg",
        "colab_type": "text"
      },
      "source": [
        "Lab 6.2 (photo has been added from google drive. It must be viewable in a jiff)\n",
        "![alt text](https://drive.google.com/uc?id=1cxlhGK3ICgcpF3l28HwLbStIfAxm98x-)"
      ]
    },
    {
      "cell_type": "markdown",
      "metadata": {
        "id": "v7gHJ8B-IZHD",
        "colab_type": "text"
      },
      "source": [
        "Lab 6.3"
      ]
    },
    {
      "cell_type": "code",
      "metadata": {
        "id": "GBkbw_d4IZnC",
        "colab_type": "code",
        "colab": {}
      },
      "source": [
        ""
      ],
      "execution_count": 0,
      "outputs": []
    },
    {
      "cell_type": "markdown",
      "metadata": {
        "id": "826jt0WTIfL5",
        "colab_type": "text"
      },
      "source": [
        "Lab 6.4"
      ]
    },
    {
      "cell_type": "code",
      "metadata": {
        "id": "8pWuPSEpIflF",
        "colab_type": "code",
        "colab": {}
      },
      "source": [
        ""
      ],
      "execution_count": 0,
      "outputs": []
    }
  ]
}